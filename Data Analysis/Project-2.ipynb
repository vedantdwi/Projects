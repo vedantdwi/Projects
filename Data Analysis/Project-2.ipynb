{
 "cells": [
  {
   "cell_type": "code",
   "execution_count": 2,
   "id": "7f93806a",
   "metadata": {},
   "outputs": [],
   "source": [
    "import numpy as np\n",
    "import pandas as pd\n",
    "import matplotlib.pyplot as plt\n",
    "import seaborn as sns"
   ]
  },
  {
   "cell_type": "code",
   "execution_count": 4,
   "id": "8600db94",
   "metadata": {},
   "outputs": [
    {
     "name": "stdout",
     "output_type": "stream",
     "text": [
      "   ID     Exercise  Calories Burn  Dream Weight  Actual Weight  Age  Gender  \\\n",
      "0   1   Exercise 2     286.959851     91.892531      96.301115   45    Male   \n",
      "1   2   Exercise 7     343.453036     64.165097      61.104668   25    Male   \n",
      "2   3   Exercise 4     261.223465     70.846224      71.766724   20    Male   \n",
      "3   4   Exercise 5     127.183858     79.477008      82.984456   33    Male   \n",
      "4   5  Exercise 10     416.318374     89.960226      85.643174   29  Female   \n",
      "\n",
      "   Duration  Heart Rate        BMI Weather Conditions  Exercise Intensity  \n",
      "0        37         170  29.426275              Rainy                   5  \n",
      "1        43         142  21.286346              Rainy                   5  \n",
      "2        20         148  27.899592             Cloudy                   4  \n",
      "3        39         170  33.729552              Sunny                  10  \n",
      "4        34         118  23.286113             Cloudy                   3  \n"
     ]
    }
   ],
   "source": [
    "df = pd.read_csv(\"exercise_dataset.csv\")\n",
    "print(df.head())"
   ]
  },
  {
   "cell_type": "code",
   "execution_count": 5,
   "id": "2d95047a",
   "metadata": {},
   "outputs": [
    {
     "data": {
      "text/html": [
       "<div>\n",
       "<style scoped>\n",
       "    .dataframe tbody tr th:only-of-type {\n",
       "        vertical-align: middle;\n",
       "    }\n",
       "\n",
       "    .dataframe tbody tr th {\n",
       "        vertical-align: top;\n",
       "    }\n",
       "\n",
       "    .dataframe thead th {\n",
       "        text-align: right;\n",
       "    }\n",
       "</style>\n",
       "<table border=\"1\" class=\"dataframe\">\n",
       "  <thead>\n",
       "    <tr style=\"text-align: right;\">\n",
       "      <th></th>\n",
       "      <th>ID</th>\n",
       "      <th>Calories Burn</th>\n",
       "      <th>Dream Weight</th>\n",
       "      <th>Actual Weight</th>\n",
       "      <th>Age</th>\n",
       "      <th>Duration</th>\n",
       "      <th>Heart Rate</th>\n",
       "      <th>BMI</th>\n",
       "      <th>Exercise Intensity</th>\n",
       "    </tr>\n",
       "  </thead>\n",
       "  <tbody>\n",
       "    <tr>\n",
       "      <th>count</th>\n",
       "      <td>3864.000000</td>\n",
       "      <td>3864.000000</td>\n",
       "      <td>3864.000000</td>\n",
       "      <td>3864.000000</td>\n",
       "      <td>3864.000000</td>\n",
       "      <td>3864.000000</td>\n",
       "      <td>3864.000000</td>\n",
       "      <td>3864.000000</td>\n",
       "      <td>3864.000000</td>\n",
       "    </tr>\n",
       "    <tr>\n",
       "      <th>mean</th>\n",
       "      <td>1932.500000</td>\n",
       "      <td>301.861806</td>\n",
       "      <td>75.139263</td>\n",
       "      <td>75.188440</td>\n",
       "      <td>39.621118</td>\n",
       "      <td>40.190994</td>\n",
       "      <td>139.777950</td>\n",
       "      <td>26.801977</td>\n",
       "      <td>5.457298</td>\n",
       "    </tr>\n",
       "    <tr>\n",
       "      <th>std</th>\n",
       "      <td>1115.585048</td>\n",
       "      <td>115.828604</td>\n",
       "      <td>14.545824</td>\n",
       "      <td>14.845511</td>\n",
       "      <td>12.521721</td>\n",
       "      <td>11.765957</td>\n",
       "      <td>23.447528</td>\n",
       "      <td>4.746745</td>\n",
       "      <td>2.850896</td>\n",
       "    </tr>\n",
       "    <tr>\n",
       "      <th>min</th>\n",
       "      <td>1.000000</td>\n",
       "      <td>100.009403</td>\n",
       "      <td>50.001984</td>\n",
       "      <td>45.783747</td>\n",
       "      <td>18.000000</td>\n",
       "      <td>20.000000</td>\n",
       "      <td>100.000000</td>\n",
       "      <td>18.500014</td>\n",
       "      <td>1.000000</td>\n",
       "    </tr>\n",
       "    <tr>\n",
       "      <th>25%</th>\n",
       "      <td>966.750000</td>\n",
       "      <td>202.168837</td>\n",
       "      <td>62.373585</td>\n",
       "      <td>62.476906</td>\n",
       "      <td>29.000000</td>\n",
       "      <td>30.000000</td>\n",
       "      <td>119.000000</td>\n",
       "      <td>22.686774</td>\n",
       "      <td>3.000000</td>\n",
       "    </tr>\n",
       "    <tr>\n",
       "      <th>50%</th>\n",
       "      <td>1932.500000</td>\n",
       "      <td>299.742508</td>\n",
       "      <td>75.522136</td>\n",
       "      <td>75.544407</td>\n",
       "      <td>40.000000</td>\n",
       "      <td>40.000000</td>\n",
       "      <td>140.000000</td>\n",
       "      <td>26.861656</td>\n",
       "      <td>5.000000</td>\n",
       "    </tr>\n",
       "    <tr>\n",
       "      <th>75%</th>\n",
       "      <td>2898.250000</td>\n",
       "      <td>404.143688</td>\n",
       "      <td>87.707989</td>\n",
       "      <td>88.105767</td>\n",
       "      <td>51.000000</td>\n",
       "      <td>51.000000</td>\n",
       "      <td>160.000000</td>\n",
       "      <td>30.950380</td>\n",
       "      <td>8.000000</td>\n",
       "    </tr>\n",
       "    <tr>\n",
       "      <th>max</th>\n",
       "      <td>3864.000000</td>\n",
       "      <td>499.859262</td>\n",
       "      <td>99.985355</td>\n",
       "      <td>104.309600</td>\n",
       "      <td>60.000000</td>\n",
       "      <td>60.000000</td>\n",
       "      <td>180.000000</td>\n",
       "      <td>34.996639</td>\n",
       "      <td>10.000000</td>\n",
       "    </tr>\n",
       "  </tbody>\n",
       "</table>\n",
       "</div>"
      ],
      "text/plain": [
       "                ID  Calories Burn  Dream Weight  Actual Weight          Age  \\\n",
       "count  3864.000000    3864.000000   3864.000000    3864.000000  3864.000000   \n",
       "mean   1932.500000     301.861806     75.139263      75.188440    39.621118   \n",
       "std    1115.585048     115.828604     14.545824      14.845511    12.521721   \n",
       "min       1.000000     100.009403     50.001984      45.783747    18.000000   \n",
       "25%     966.750000     202.168837     62.373585      62.476906    29.000000   \n",
       "50%    1932.500000     299.742508     75.522136      75.544407    40.000000   \n",
       "75%    2898.250000     404.143688     87.707989      88.105767    51.000000   \n",
       "max    3864.000000     499.859262     99.985355     104.309600    60.000000   \n",
       "\n",
       "          Duration   Heart Rate          BMI  Exercise Intensity  \n",
       "count  3864.000000  3864.000000  3864.000000         3864.000000  \n",
       "mean     40.190994   139.777950    26.801977            5.457298  \n",
       "std      11.765957    23.447528     4.746745            2.850896  \n",
       "min      20.000000   100.000000    18.500014            1.000000  \n",
       "25%      30.000000   119.000000    22.686774            3.000000  \n",
       "50%      40.000000   140.000000    26.861656            5.000000  \n",
       "75%      51.000000   160.000000    30.950380            8.000000  \n",
       "max      60.000000   180.000000    34.996639           10.000000  "
      ]
     },
     "execution_count": 5,
     "metadata": {},
     "output_type": "execute_result"
    }
   ],
   "source": [
    "df.describe()"
   ]
  },
  {
   "cell_type": "code",
   "execution_count": 6,
   "id": "93957036",
   "metadata": {},
   "outputs": [
    {
     "name": "stdout",
     "output_type": "stream",
     "text": [
      "<class 'pandas.core.frame.DataFrame'>\n",
      "RangeIndex: 3864 entries, 0 to 3863\n",
      "Data columns (total 12 columns):\n",
      " #   Column              Non-Null Count  Dtype  \n",
      "---  ------              --------------  -----  \n",
      " 0   ID                  3864 non-null   int64  \n",
      " 1   Exercise            3864 non-null   object \n",
      " 2   Calories Burn       3864 non-null   float64\n",
      " 3   Dream Weight        3864 non-null   float64\n",
      " 4   Actual Weight       3864 non-null   float64\n",
      " 5   Age                 3864 non-null   int64  \n",
      " 6   Gender              3864 non-null   object \n",
      " 7   Duration            3864 non-null   int64  \n",
      " 8   Heart Rate          3864 non-null   int64  \n",
      " 9   BMI                 3864 non-null   float64\n",
      " 10  Weather Conditions  3864 non-null   object \n",
      " 11  Exercise Intensity  3864 non-null   int64  \n",
      "dtypes: float64(4), int64(5), object(3)\n",
      "memory usage: 362.4+ KB\n"
     ]
    }
   ],
   "source": [
    "df.info()"
   ]
  },
  {
   "cell_type": "code",
   "execution_count": 7,
   "id": "13822845",
   "metadata": {},
   "outputs": [
    {
     "data": {
      "text/plain": [
       "ID                    0\n",
       "Exercise              0\n",
       "Calories Burn         0\n",
       "Dream Weight          0\n",
       "Actual Weight         0\n",
       "Age                   0\n",
       "Gender                0\n",
       "Duration              0\n",
       "Heart Rate            0\n",
       "BMI                   0\n",
       "Weather Conditions    0\n",
       "Exercise Intensity    0\n",
       "dtype: int64"
      ]
     },
     "execution_count": 7,
     "metadata": {},
     "output_type": "execute_result"
    }
   ],
   "source": [
    "df.isnull().sum()"
   ]
  },
  {
   "cell_type": "markdown",
   "id": "882f00da",
   "metadata": {},
   "source": [
    "# Gender Distribution"
   ]
  },
  {
   "cell_type": "code",
   "execution_count": 9,
   "id": "ea4bd8cd",
   "metadata": {},
   "outputs": [
    {
     "data": {
      "image/png": "[encoded data removed]",
      "text/plain": [
       "<Figure size 400x500 with 1 Axes>"
      ]
     },
     "metadata": {},
     "output_type": "display_data"
    }
   ],
   "source": [
    "plt.figure(figsize= (4,5))\n",
    "ax = sns.countplot(data = df, x = \"Gender\")\n",
    "ax.bar_label(ax.containers[0])\n",
    "plt.show()"
   ]
  },
  {
   "cell_type": "code",
   "execution_count": 10,
   "id": "9a9f9a54",
   "metadata": {
    "scrolled": true
   },
   "outputs": [
    {
     "name": "stdout",
     "output_type": "stream",
     "text": [
      "        Calories Burn  Heart Rate        BMI  Exercise Intensity\n",
      "Gender                                                          \n",
      "Female     305.079815  139.099796  26.776949            5.471996\n",
      "Male       298.535402  140.478947  26.827848            5.442105\n"
     ]
    }
   ],
   "source": [
    "gp = df.groupby(\"Gender\").agg({\"Calories Burn\":'mean',\"Heart Rate\":'mean',\"BMI\":'mean',\"Exercise Intensity\":'mean'})\n",
    "print(gp)"
   ]
  },
  {
   "cell_type": "markdown",
   "id": "ff4d54c2",
   "metadata": {},
   "source": [
    "# Health scenario"
   ]
  },
  {
   "cell_type": "code",
   "execution_count": 11,
   "id": "50992273",
   "metadata": {},
   "outputs": [],
   "source": [
    "ageFilter = df['Age'] >= 20\n",
    "df = df[ageFilter]"
   ]
  },
  {
   "cell_type": "code",
   "execution_count": 12,
   "id": "c7dbb2a6",
   "metadata": {},
   "outputs": [],
   "source": [
    "def bmi_category(bmi):\n",
    "    if bmi >= 30:\n",
    "        return 'Obese'\n",
    "    elif bmi >= 25.0:\n",
    "        return 'Overweight'\n",
    "    elif bmi >= 18.5:\n",
    "        return 'Healthy'\n",
    "    else:\n",
    "        return 'Underweight'"
   ]
  },
  {
   "cell_type": "code",
   "execution_count": 13,
   "id": "9d10b7b8",
   "metadata": {},
   "outputs": [
    {
     "data": {
      "text/plain": [
       "Healthy       1450\n",
       "Overweight    1120\n",
       "Obese         1114\n",
       "Name: BMI_cateory, dtype: int64"
      ]
     },
     "execution_count": 13,
     "metadata": {},
     "output_type": "execute_result"
    }
   ],
   "source": [
    "df['BMI_cateory'] = df['BMI'].apply(bmi_category)\n",
    "df['BMI_cateory'].value_counts()"
   ]
  },
  {
   "cell_type": "markdown",
   "id": "55b25fd3",
   "metadata": {},
   "source": [
    "# Effect of exercise Intensity on Health"
   ]
  },
  {
   "cell_type": "code",
   "execution_count": 26,
   "id": "0df28105",
   "metadata": {},
   "outputs": [
    {
     "data": {
      "text/plain": [
       "<matplotlib.collections.PathCollection at 0x239efa23790>"
      ]
     },
     "execution_count": 26,
     "metadata": {},
     "output_type": "execute_result"
    },
    {
     "data": {
      "image/png": "[encoded data removed]",
      "text/plain": [
       "<Figure size 640x480 with 1 Axes>"
      ]
     },
     "metadata": {},
     "output_type": "display_data"
    }
   ],
   "source": [
    "plt.scatter(x = \"BMI_cateory\", y = \"Exercise Intensity\", data = df)"
   ]
  },
  {
   "cell_type": "markdown",
   "id": "35312f5e",
   "metadata": {},
   "source": [
    "# Gender Distribution on the basis of Exercise Intensity"
   ]
  },
  {
   "cell_type": "code",
   "execution_count": 26,
   "id": "963a53d7",
   "metadata": {},
   "outputs": [
    {
     "data": {
      "text/plain": [
       "<Axes: xlabel='Gender', ylabel='Exercise Intensity'>"
      ]
     },
     "execution_count": 26,
     "metadata": {},
     "output_type": "execute_result"
    },
    {
     "data": {
      "image/png": "[encoded data removed]",
      "text/plain": [
       "<Figure size 640x480 with 1 Axes>"
      ]
     },
     "metadata": {},
     "output_type": "display_data"
    }
   ],
   "source": [
    "sns.boxplot(x = \"Gender\", y = \"Exercise Intensity\", data = df)"
   ]
  }
 ],
 "metadata": {
  "kernelspec": {
   "display_name": "Python 3 (ipykernel)",
   "language": "python",
   "name": "python3"
  },
  "language_info": {
   "codemirror_mode": {
    "name": "ipython",
    "version": 3
   },
   "file_extension": ".py",
   "mimetype": "text/x-python",
   "name": "python",
   "nbconvert_exporter": "python",
   "pygments_lexer": "ipython3",
   "version": "3.10.9"
  }
 },
 "nbformat": 4,
 "nbformat_minor": 5
}
